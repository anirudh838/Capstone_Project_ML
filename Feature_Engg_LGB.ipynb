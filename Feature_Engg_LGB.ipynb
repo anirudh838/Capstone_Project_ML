{
  "cells": [
    {
      "metadata": {
        "_uuid": "8f2839f25d086af736a60e9eeb907d3b93b6e0e5",
        "_cell_guid": "b1076dfc-b9ad-4769-8c92-a6c4dae69d19",
        "trusted": true,
        "collapsed": true
      },
      "cell_type": "code",
      "source": "# Load libraries\nimport numpy as np # linear algebra\nimport pandas as pd # data processing, CSV file I/O (e.g. pd.read_csv)\nimport matplotlib\nimport matplotlib.pyplot as plt\nimport seaborn as sns  # visualization tool\ncolor = sns.color_palette()\nimport plotly.offline as py\npy.init_notebook_mode(connected=True)\nfrom plotly.offline import init_notebook_mode, iplot\ninit_notebook_mode(connected=True)\nimport plotly.graph_objs as go\nimport plotly.offline as offline\noffline.init_notebook_mode()",
      "execution_count": null,
      "outputs": []
    },
    {
      "metadata": {
        "_cell_guid": "79c7e3d0-c299-4dcb-8224-4455121ee9b0",
        "_uuid": "d629ff2d2480ee46fbb7e2d37f6b5fab8052498a",
        "trusted": true,
        "collapsed": true
      },
      "cell_type": "code",
      "source": "# Read the Data\ntrain = pd.read_csv(\"../input/train.csv\", dtype={\"project_essay_3\": object, \"project_essay_4\": object})\ntest = pd.read_csv(\"../input/test.csv\", dtype={\"project_essay_3\": object, \"project_essay_4\": object})\nresources = pd.read_csv(\"../input/resources.csv\")\n\n\napprovals=train[train.project_is_approved==1]\nrejects=train[train.project_is_approved==0]",
      "execution_count": null,
      "outputs": []
    },
    {
      "metadata": {
        "trusted": true,
        "scrolled": true,
        "_uuid": "a64be37c324515bd9cc7a9fe9c39e5fd209016d5",
        "collapsed": true
      },
      "cell_type": "code",
      "source": "print(\"Size of training data : \",train.shape)\nprint(\"Size of test data : \",test.shape)\nprint(\"Size of resource data : \",resources.shape)",
      "execution_count": null,
      "outputs": []
    },
    {
      "metadata": {
        "trusted": true,
        "_uuid": "ecaf5cd65835121a72cc0399bf16e8e54c687a2a",
        "collapsed": true
      },
      "cell_type": "code",
      "source": "train.head()",
      "execution_count": null,
      "outputs": []
    },
    {
      "metadata": {
        "trusted": true,
        "_uuid": "dc9513802efe96b7ddcd719aafd30ffa6ab08279",
        "collapsed": true
      },
      "cell_type": "code",
      "source": "train.dtypes",
      "execution_count": null,
      "outputs": []
    },
    {
      "metadata": {
        "trusted": true,
        "_uuid": "5df41a93733aacaa2b4aec9f8805a22f06ca85a7",
        "collapsed": true
      },
      "cell_type": "code",
      "source": "train.info()",
      "execution_count": null,
      "outputs": []
    },
    {
      "metadata": {
        "trusted": true,
        "_uuid": "c26b26d78aa55990f4f444fa7fd0b1d803adb50e",
        "collapsed": true
      },
      "cell_type": "code",
      "source": "train.describe()",
      "execution_count": null,
      "outputs": []
    },
    {
      "metadata": {
        "trusted": true,
        "_uuid": "dc36dd3eeacec588daf49928794b33d49020fadc",
        "collapsed": true
      },
      "cell_type": "code",
      "source": "train.describe(include=[\"O\"])",
      "execution_count": null,
      "outputs": []
    },
    {
      "metadata": {
        "trusted": true,
        "_uuid": "56e7ca8395d856285332ba4596291cccb1d25a09",
        "collapsed": true
      },
      "cell_type": "code",
      "source": "resources.head()",
      "execution_count": null,
      "outputs": []
    },
    {
      "metadata": {
        "trusted": true,
        "_uuid": "7c38310262fd841dd89d8bacf543f9e787b24cff",
        "collapsed": true
      },
      "cell_type": "code",
      "source": "resources.dtypes",
      "execution_count": null,
      "outputs": []
    },
    {
      "metadata": {
        "trusted": true,
        "_uuid": "42609cc05705026784c3debe14eb3840588bd739",
        "collapsed": true
      },
      "cell_type": "code",
      "source": "resources.info()",
      "execution_count": null,
      "outputs": []
    },
    {
      "metadata": {
        "trusted": true,
        "_uuid": "43c0608b65f2104303ca69f50275eda4875bc30c",
        "collapsed": true
      },
      "cell_type": "code",
      "source": "resources.describe()",
      "execution_count": null,
      "outputs": []
    },
    {
      "metadata": {
        "trusted": true,
        "_uuid": "911ff75b795401d385877dc6d240cb43a9c953dc",
        "collapsed": true
      },
      "cell_type": "code",
      "source": "resources.describe(include=[\"O\"])",
      "execution_count": null,
      "outputs": []
    },
    {
      "metadata": {
        "trusted": true,
        "_uuid": "2c7e60e2dd4da5f90acdb05abf7ff247fe1e3dd4",
        "collapsed": true
      },
      "cell_type": "code",
      "source": "zero_count = train[train['teacher_number_of_previously_posted_projects'] == 0]\nzero_project_percentage = (float(zero_count.shape[0]) / train.shape[0]) * 100\nprint(\"Percentage of teachers with their first project: \" + str(zero_project_percentage))\n\none_count = train[train['teacher_number_of_previously_posted_projects'] == 1]\none_count_percentage = (float(one_count.shape[0]) / train.shape[0]) * 100\nprint(\"Percentage of teachers with only one project: \" + str(one_count_percentage))\n\nmore_than_one = train[train['teacher_number_of_previously_posted_projects'] > 1]\nmore_than_one_percentage = (float(more_than_one.shape[0]) / train.shape[0]) * 100\nprint(\"Percentage of teachers with more than one project: \" + str(more_than_one_percentage))",
      "execution_count": null,
      "outputs": []
    },
    {
      "metadata": {
        "trusted": true,
        "_uuid": "ce00d4ac1640c8a217547ec236ab0ab9a7354499",
        "collapsed": true
      },
      "cell_type": "code",
      "source": "plt.figure(figsize = (12, 8))\n\nsns.distplot(train['teacher_number_of_previously_posted_projects'])\nplt.title('Histogram of number of previously posted applications by the submitting teacher')\nplt.xlabel('Number of previously posted applications by the submitting teacher', fontsize=12)\nplt.ylabel('Count', fontsize=12)\nplt.show()",
      "execution_count": null,
      "outputs": []
    },
    {
      "metadata": {
        "trusted": true,
        "_uuid": "f5bbb01073ffb1bfa78153405906ac579e37ffc7",
        "collapsed": true
      },
      "cell_type": "code",
      "source": "plt.figure(figsize = (12, 8))\nplt.hist(train['teacher_number_of_previously_posted_projects'], bins=[0, 10, 150, 450])\nplt.title('Histogram Counting # of Teachers that Previously Posted Projects)')\nplt.xlabel('Projects')\nplt.ylabel('Count')\nplt.show()",
      "execution_count": null,
      "outputs": []
    },
    {
      "metadata": {
        "trusted": true,
        "_uuid": "1e113fd489112a686f98e37e0d16a3e9ac784abe",
        "collapsed": true
      },
      "cell_type": "code",
      "source": "# Check to see if all teacher_id are present in the data set\n# ['teacher_id'][0]\n# ['teacher_id'][4]\nprint(len(np.where(train['teacher_id'] == train['teacher_id'][0])[0]))\nprint(len(np.where(train['teacher_id'] == train['teacher_id'][4])[0]))",
      "execution_count": null,
      "outputs": []
    },
    {
      "metadata": {
        "trusted": true,
        "_uuid": "ee364bb110a660e5ec7874e94fc8c1bf607b1994",
        "collapsed": true
      },
      "cell_type": "code",
      "source": "project_approved = train['project_is_approved'].value_counts()\nlabels = project_approved.index\nsizes = (project_approved / project_approved.sum())*100\ntrace = go.Pie(labels=labels, values=sizes, hoverinfo='label+percent')\nlayout = go.Layout(title='Status of Project Proposal')\ndata = [trace]\nfig = go.Figure(data=data, layout=layout)\npy.iplot(fig)",
      "execution_count": null,
      "outputs": []
    },
    {
      "metadata": {
        "trusted": true,
        "_uuid": "d09f039211a2337b4be3533c39877a336609dd24",
        "collapsed": true
      },
      "cell_type": "code",
      "source": "train['teacher_prefix'].value_counts()",
      "execution_count": null,
      "outputs": []
    },
    {
      "metadata": {
        "trusted": true,
        "_uuid": "3ba2aee439b3a073fa7e798fcbd8f13b2a77d86c",
        "collapsed": true
      },
      "cell_type": "code",
      "source": "temp = train[\"teacher_prefix\"].value_counts()\ntemp_y0 = []\ntemp_y1 = []\nfor val in temp.index:\n    temp_y1.append(np.sum(train['project_is_approved'][train[\"teacher_prefix\"]==val] == 1))\n    temp_y0.append(np.sum(train['project_is_approved'][train[\"teacher_prefix\"]==val] == 0))    \ntrace1 = go.Bar(\n    x = temp.index,\n    y = temp_y1,\n    name='Accepted Proposals'\n)\ntrace2 = go.Bar(\n    x = temp.index,\n    y = temp_y0, \n    name='Rejected Proposals'\n)\n\ndata = [trace1, trace2]\nlayout = go.Layout(\n    title = \"Popular Teacher prefixes in terms of project acceptance rate and project rejection rate\",\n    barmode='stack',\n    width = 1000\n)\n\nfig = go.Figure(data=data, layout=layout)\npy.iplot(fig)",
      "execution_count": null,
      "outputs": []
    },
    {
      "metadata": {
        "trusted": true,
        "_uuid": "1f5c21674fb46562179ebf74e84880a78c78f433",
        "collapsed": true
      },
      "cell_type": "code",
      "source": "gender_mapping = {\"Mrs.\": \"Female\", \"Ms.\":\"Female\", \"Mr.\":\"Male\", \"Teacher\":\"Unknown\", \"Dr.\":\"Unknown\", np.nan:\"Unknown\"  }\ntrain[\"gender\"] = train.teacher_prefix.map(gender_mapping)\n\ntemp = train[\"gender\"].value_counts()\ntrace = go.Bar(\n    x = temp.index,\n    y = (temp / temp.sum())*100,\n)\ndata = [trace]\nlayout = go.Layout(\n    title = \"Gender in terms of projects proposals submitted in % \",\n    xaxis=dict(\n        title='Gender',\n        tickfont=dict(\n            size=14,\n            color='rgb(107, 107, 107)'\n        )\n    ),\n    yaxis=dict(\n        title='Count of project proposals submitted in % ',\n        titlefont=dict(\n            size=16,\n            color='rgb(107, 107, 107)'\n        ),\n        tickfont=dict(\n            size=14,\n            color='rgb(107, 107, 107)'\n        )\n)\n)\nfig = go.Figure(data=data, layout=layout)\npy.iplot(fig)",
      "execution_count": null,
      "outputs": []
    },
    {
      "metadata": {
        "trusted": true,
        "_uuid": "558ed17499453554bb206e755b005738ef93ea94",
        "collapsed": true
      },
      "cell_type": "code",
      "source": "for label in ['project_grade_category']:\n    print(train[label].value_counts())",
      "execution_count": null,
      "outputs": []
    },
    {
      "metadata": {
        "trusted": true,
        "_uuid": "98256ff8bfefdf096810c3fedcba0c2e0d46cb30",
        "collapsed": true
      },
      "cell_type": "code",
      "source": "temp = train[\"project_grade_category\"].value_counts()\ntrace = go.Bar(\n    x = temp.index,\n    y = (temp / temp.sum())*100,\n)\ndata = [trace]\nlayout = go.Layout(\n    title = \"Distribution of project_grade_category (school grade levels) in %\",\n    xaxis=dict(\n        title='school grade levels',\n        tickfont=dict(\n            size=14,\n            color='rgb(107, 107, 107)'\n        )\n    ),\n    yaxis=dict(\n        title='Count of project proposals submitted in % ',\n        titlefont=dict(\n            size=16,\n            color='rgb(107, 107, 107)'\n        ),\n        tickfont=dict(\n            size=14,\n            color='rgb(107, 107, 107)'\n        )\n)\n)\nfig = go.Figure(data=data, layout=layout)\npy.iplot(fig, filename='schoolStateNames')",
      "execution_count": null,
      "outputs": []
    },
    {
      "metadata": {
        "trusted": true,
        "_uuid": "1ff1f49209470b7bae0d7cb715177872a4f29b62",
        "collapsed": true
      },
      "cell_type": "code",
      "source": "temp = train[\"project_grade_category\"].value_counts()\n#print(temp.values)\ntemp_y0 = []\ntemp_y1 = []\nfor val in temp.index:\n    temp_y1.append(np.sum(train['project_is_approved'][train[\"project_grade_category\"]==val] == 1))\n    temp_y0.append(np.sum(train['project_is_approved'][train[\"project_grade_category\"]==val] == 0))    \ntrace1 = go.Bar(\n    x = temp.index,\n    y = temp_y1,\n    name='Accepted Proposals'\n)\ntrace2 = go.Bar(\n    x = temp.index,\n    y = temp_y0, \n    name='Rejected Proposals'\n)\n\ndata = [trace1, trace2]\nlayout = go.Layout(\n    title = \"Popular school grade levels in terms of project acceptance rate and project rejection rate\",\n    barmode='stack',\n    width = 1000\n)\n\nfig = go.Figure(data=data, layout=layout)\npy.iplot(fig)",
      "execution_count": null,
      "outputs": []
    },
    {
      "metadata": {
        "trusted": true,
        "_uuid": "3dfbcde318c46959ab55cdd24df70aeb4f46a049",
        "collapsed": true
      },
      "cell_type": "code",
      "source": "pd.DataFrame(train['project_is_approved'])",
      "execution_count": null,
      "outputs": []
    },
    {
      "metadata": {
        "trusted": true,
        "_uuid": "ad30461892480f6cf89f92d59734ac0cf45d5708",
        "collapsed": true
      },
      "cell_type": "code",
      "source": "state_vals=train.groupby(['school_state'])['project_is_approved','teacher_id'].agg(\n    {'project_is_approved':['sum','count'],'teacher_id':['nunique']}).reset_index()\nstate_vals.columns=['state','approved','total','teacher_count']\nstate_vals['approval_perc']=(state_vals.approved*100)/state_vals.total\nstate_vals['proj_per_teacher']=(state_vals.total)/state_vals.teacher_count\nstate_vals=state_vals.round(2)\nstate_vals.sort_values('total',ascending=False).head()",
      "execution_count": null,
      "outputs": []
    },
    {
      "metadata": {
        "trusted": true,
        "_uuid": "7d2051d03cf87a65556eb337c5d2538e836dbfbf",
        "collapsed": true
      },
      "cell_type": "code",
      "source": "temp = train[\"project_subject_categories\"].value_counts().head(5)\ntemp_y0 = []\ntemp_y1 = []\nfor val in temp.index:\n    temp_y1.append(np.sum(train[\"project_is_approved\"][train[\"project_subject_categories\"]==val] == 1))\n    temp_y0.append(np.sum(train[\"project_is_approved\"][train[\"project_subject_categories\"]==val] == 0))    \ntrace1 = go.Bar(\n    x = temp.index,\n    y = temp_y1,\n    name='Accepted Proposals'\n)\ntrace2 = go.Bar(\n    x = temp.index,\n    y = temp_y0, \n    name='Rejected Proposals'\n)\n\ndata = [trace1, trace2]\nlayout = go.Layout(\n    title = \"Popular category of the project in terms of project acceptance rate and project rejection rate\",\n    barmode='stack',\n    width = 1000\n)\n\nfig = go.Figure(data=data, layout=layout)\npy.iplot(fig)",
      "execution_count": null,
      "outputs": []
    },
    {
      "metadata": {
        "trusted": true,
        "_uuid": "31fa273fc2dcac46db5c6552bb1f0987727ce208",
        "collapsed": true
      },
      "cell_type": "code",
      "source": "temp = train[\"project_subject_subcategories\"].value_counts().head(5)\ntemp_y0 = []\ntemp_y1 = []\nfor val in temp.index:\n    temp_y1.append(np.sum(train[\"project_is_approved\"][train[\"project_subject_subcategories\"]==val] == 1))\n    temp_y0.append(np.sum(train[\"project_is_approved\"][train[\"project_subject_subcategories\"]==val] == 0))    \ntrace1 = go.Bar(\n    x = temp.index,\n    y = temp_y1,\n    name='Accepted Proposals'\n)\ntrace2 = go.Bar(\n    x = temp.index,\n    y = temp_y0, \n    name='Rejected Proposals'\n)\n\ndata = [trace1, trace2]\nlayout = go.Layout(\n    title = \"Popular category of the project in terms of project acceptance rate and project rejection rate\",\n    barmode='stack',\n    width = 1000\n)\n\nfig = go.Figure(data=data, layout=layout)\npy.iplot(fig)",
      "execution_count": null,
      "outputs": []
    },
    {
      "metadata": {
        "trusted": true,
        "_uuid": "25a47737349f5feedfe281fdb448dde4686f2b0e",
        "collapsed": true
      },
      "cell_type": "code",
      "source": "temp = train[\"project_title\"].value_counts().head(20)\n#print(temp.values)\ntemp_y0 = []\ntemp_y1 = []\nfor val in temp.index:\n    temp_y1.append(np.sum(train[\"project_is_approved\"][train[\"project_title\"]==val] == 1))\n    temp_y0.append(np.sum(train[\"project_is_approved\"][train[\"project_title\"]==val] == 0))    \ntrace1 = go.Bar(\n    x = temp.index,\n    y = temp_y1,\n    name='Accepted Proposals'\n)\ntrace2 = go.Bar(\n    x = temp.index,\n    y = temp_y0, \n    name='Rejected Proposals'\n)\n\ndata = [trace1, trace2]\nlayout = go.Layout(\n    title = \"Popular project titles in terms of project acceptance rate and project rejection rate\",\n    barmode='stack',\n    width = 1000\n)\n\nfig = go.Figure(data=data, layout=layout)\npy.iplot(fig)",
      "execution_count": null,
      "outputs": []
    },
    {
      "metadata": {
        "trusted": true,
        "_uuid": "5855c85ac7f63c4023a70c4a766f3997708d448e",
        "collapsed": true
      },
      "cell_type": "code",
      "source": "train_data = pd.read_csv(\"../input/train.csv\", dtype={\"project_essay_3\": object, \"project_essay_4\": object})\ntest_data = pd.read_csv(\"../input/test.csv\", dtype={\"project_essay_3\": object, \"project_essay_4\": object})\n\ntrain_data = pd.merge(train_data, resources, on=\"id\", how='left')\ntest_data = pd.merge(test_data, resources, on=\"id\", how='left')",
      "execution_count": null,
      "outputs": []
    },
    {
      "metadata": {
        "trusted": true,
        "_uuid": "2ab9050f4a35715bd61d7c162738f0441ebe98f7",
        "collapsed": true
      },
      "cell_type": "code",
      "source": "temp = train_data.groupby('project_title')['project_is_approved'].agg(['sum', 'count'])\ntemp['approval_rate'] = (temp['sum']*100)/temp['count']\ntemp.columns = [\"# of projects approved\", '# of total projects', 'Approval rate']\ntemp = temp.sort_values(by='# of total projects', ascending=False)\ntemp = temp.iloc[0:20]\ntemp",
      "execution_count": null,
      "outputs": []
    },
    {
      "metadata": {
        "trusted": true,
        "collapsed": true,
        "_uuid": "6580ca228b621693b4dd7cf2c1955ae0052774d7"
      },
      "cell_type": "code",
      "source": "import re\nfrom nltk.corpus import stopwords\n\nREPLACE_BY_SPACE_RE = re.compile('[/(){}\\[\\]\\|@,;]')\nBAD_SYMBOLS_RE = re.compile('[^0-9a-z #+_]')\nSTOPWORDS = set(stopwords.words('english'))\n\ndef text_prepare(text):\n    \"\"\"\n        text: a string\n        \n        return: modified initial string\n    \"\"\"\n    text = text.lower()# lowercase text  \n    text = REPLACE_BY_SPACE_RE.sub(' ',text)# replace REPLACE_BY_SPACE_RE symbols by space in text    \n    text = BAD_SYMBOLS_RE.sub('',text)# delete symbols which are in BAD_SYMBOLS_RE from text    \n    temp = [s.strip() for s in text.split() if s not in STOPWORDS]# delete stopwords from text\n    new_text = ''\n    for i in temp:\n        new_text +=i+' '\n    text = new_text\n    return text.strip()",
      "execution_count": null,
      "outputs": []
    },
    {
      "metadata": {
        "trusted": true,
        "_uuid": "6a35c3455f3e429695042e6569e4e0ba1ef05f9f",
        "collapsed": true
      },
      "cell_type": "code",
      "source": "# Top keyword in project_essay_1\ntrain['project_essay_1'] = train['project_essay_1'].apply(lambda x: \" \".join(x.lower() for x in x.split()))\ntrain['project_essay_1'] = train['project_essay_1'].map(text_prepare)\n\n\nfrom wordcloud import WordCloud\n\nwordcloud = WordCloud(max_font_size=50, width=600, height=300).generate(' '.join(train['project_essay_1'].values))\nplt.figure(figsize=(15,8))\nplt.imshow(wordcloud)\nplt.title(\"Top Keywords in project_essay_1\", fontsize=35)\nplt.axis(\"off\")\nplt.show() ",
      "execution_count": null,
      "outputs": []
    },
    {
      "metadata": {
        "trusted": true,
        "_uuid": "824a824ce5a27e3a542760774b0f184ec89d6fdc",
        "collapsed": true
      },
      "cell_type": "code",
      "source": "# Top keyword in project_essay_2\ntrain['project_essay_2'] = train['project_essay_2'].apply(lambda x: \" \".join(x.lower() for x in x.split()))\ntrain['project_essay_2'] = train['project_essay_2'].map(text_prepare)\n\n\nwordcloud = WordCloud(max_font_size=50, width=600, height=300).generate(' '.join(train['project_essay_2'].values))\nplt.figure(figsize=(15,8))\nplt.imshow(wordcloud)\nplt.title(\"Top Keywords in project_essay_2\", fontsize=35)\nplt.axis(\"off\")\nplt.show() ",
      "execution_count": null,
      "outputs": []
    },
    {
      "metadata": {
        "trusted": true,
        "_uuid": "e850cb058751f61e985df5174a3961f1871310e5",
        "collapsed": true
      },
      "cell_type": "code",
      "source": "approvals['project_title'] = approvals['project_title'].apply(lambda x: \" \".join(x.lower() for x in x.split()))\napprovals['project_title'] = approvals['project_title'].map(text_prepare)\n\n\nfrom wordcloud import WordCloud\n\nwordcloud = WordCloud(max_font_size=50, width=600, height=300).generate(' '.join(approvals['project_title'].values))\nplt.figure(figsize=(15,8))\nplt.imshow(wordcloud)\nplt.title(\"Top Keywords in project_title\", fontsize=35)\nplt.axis(\"off\")\nplt.show() ",
      "execution_count": null,
      "outputs": []
    },
    {
      "metadata": {
        "trusted": true,
        "_uuid": "25969e23b0f6bf5e2d403f77e36c5b48b4d85d15",
        "collapsed": true
      },
      "cell_type": "code",
      "source": "rejects['project_title'] = rejects['project_title'].apply(lambda x: \" \".join(x.lower() for x in x.split()))\nrejects['project_title'] = rejects['project_title'].map(text_prepare)\n\n\nwordcloud = WordCloud(max_font_size=50, width=600, height=300).generate(' '.join(rejects['project_title'].values))\nplt.figure(figsize=(15,8))\nplt.imshow(wordcloud)\nplt.title(\"Top Keywords in project_title\", fontsize=35)\nplt.axis(\"off\")\nplt.show() ",
      "execution_count": null,
      "outputs": []
    },
    {
      "metadata": {
        "trusted": true,
        "_uuid": "7428f7ebdecf8f68bfd05333276af9e79e7fceac",
        "collapsed": true
      },
      "cell_type": "code",
      "source": "train_data.head(1)",
      "execution_count": null,
      "outputs": []
    },
    {
      "metadata": {
        "trusted": true,
        "collapsed": true,
        "_uuid": "388bc62de0c38af339e16ee3b8773a6f8ef156ba"
      },
      "cell_type": "code",
      "source": "approvals_data=train_data[train_data.project_is_approved==1]\nrejects_data=train_data[train_data.project_is_approved==0]",
      "execution_count": null,
      "outputs": []
    },
    {
      "metadata": {
        "trusted": true,
        "_uuid": "29cb5aed320f2563c9c780de57b17b3de54dfb99",
        "collapsed": true
      },
      "cell_type": "code",
      "source": "approvals_data['project_resource_summary'] = approvals_data['project_resource_summary'].apply(lambda x: \" \".join(x.lower() for x in x.split()))\napprovals_data['project_resource_summary'] = approvals_data['project_resource_summary'].map(text_prepare)\n\n\nfrom wordcloud import WordCloud\n\nwordcloud = WordCloud(max_font_size=50, width=600, height=300).generate(' '.join(approvals_data['project_resource_summary'].values))\nplt.figure(figsize=(15,8))\nplt.imshow(wordcloud)\nplt.title(\"Top Keywords in approved project_resource_summary\", fontsize=35)\nplt.axis(\"off\")\nplt.show() ",
      "execution_count": null,
      "outputs": []
    },
    {
      "metadata": {
        "trusted": true,
        "_uuid": "7c48232e30c922cab5f26db6923672d00296f535",
        "collapsed": true
      },
      "cell_type": "code",
      "source": "rejects_data['project_resource_summary'] = rejects_data['project_resource_summary'].apply(lambda x: \" \".join(x.lower() for x in x.split()))\nrejects_data['project_resource_summary'] = rejects_data['project_resource_summary'].map(text_prepare)\n\n\nfrom wordcloud import WordCloud\n\nwordcloud = WordCloud(max_font_size=50, width=600, height=300).generate(' '.join(rejects_data['project_resource_summary'].values))\nplt.figure(figsize=(15,8))\nplt.imshow(wordcloud)\nplt.title(\"Top Keywords in Rejects project_resource_summary\", fontsize=35)\nplt.axis(\"off\")\nplt.show() ",
      "execution_count": null,
      "outputs": []
    },
    {
      "metadata": {
        "trusted": true,
        "_uuid": "c156627bdde4e0c89c0aaa592947289564f2e8ff",
        "collapsed": true
      },
      "cell_type": "code",
      "source": "train[\"project_submitted_datetime\"] = pd.to_datetime(train[\"project_submitted_datetime\"])\ntrain[\"month_created\"] = train[\"project_submitted_datetime\"].dt.month\ntrain[\"weekday_created\"] = train[\"project_submitted_datetime\"].dt.weekday\ntrain[\"date_created\"] = train[\"project_submitted_datetime\"].dt.date\ntrain[\"hour_created\"] = train[\"project_submitted_datetime\"].dt.hour",
      "execution_count": null,
      "outputs": []
    },
    {
      "metadata": {
        "trusted": true,
        "_uuid": "9e9a68ecfef2db5badbd43dd2c401c427a519b51",
        "collapsed": true
      },
      "cell_type": "code",
      "source": "temp = train[\"month_created\"].value_counts()\n#print(temp.values)\ntemp_y0 = []\ntemp_y1 = []\nfor val in temp.index:\n    temp_y1.append(np.sum(train[\"project_is_approved\"][train[\"month_created\"]==val] == 1))\n    temp_y0.append(np.sum(train[\"project_is_approved\"][train[\"month_created\"]==val] == 0))\n    \ntrace1 = go.Bar(\n    x = temp.index,\n    y = temp_y1,\n    name='Accepted Proposals'\n)\ntrace2 = go.Bar(\n    x = temp.index,\n    y = temp_y0, \n    name='Rejected Proposals'\n)\n\ndata = [trace1, trace2]\nlayout = go.Layout(\n    title = \"Project Proposal Submission Month Distribution\",\n    barmode='stack',\n    width = 1000\n)\n\nfig = go.Figure(data=data, layout=layout)\npy.iplot(fig)",
      "execution_count": null,
      "outputs": []
    },
    {
      "metadata": {
        "trusted": true,
        "_uuid": "b34c3299a8c5b6f8cd04dfd9f72b16133ef32eed",
        "collapsed": true
      },
      "cell_type": "code",
      "source": "temp = train[\"weekday_created\"].value_counts()\n#print(temp.values)\ntemp_y0 = []\ntemp_y1 = []\nfor val in temp.index:\n    temp_y1.append(np.sum(train[\"project_is_approved\"][train[\"weekday_created\"]==val] == 1))\n    temp_y0.append(np.sum(train[\"project_is_approved\"][train[\"weekday_created\"]==val] == 0))\n \ntemp.index = [\"Mon\", \"Tue\", \"Wed\", \"Thu\", \"Fri\", \"Sat\", \"Sun\"]\ntrace1 = go.Bar(\n    x = temp.index,\n    y = temp_y1,\n    name='Accepted Proposals'\n)\ntrace2 = go.Bar(\n    x = temp.index,\n    y = temp_y0, \n    name='Rejected Proposals'\n)\n\ndata = [trace1, trace2]\nlayout = go.Layout(\n    title = \"Project Proposal Submission weekday Distribution\",\n    barmode='stack',\n    width = 1000\n)\n\nfig = go.Figure(data=data, layout=layout)\npy.iplot(fig)",
      "execution_count": null,
      "outputs": []
    },
    {
      "metadata": {
        "trusted": true,
        "_uuid": "9b528b0bdbe0f47248263a58fdb5ac8481c41d6d",
        "collapsed": true
      },
      "cell_type": "code",
      "source": "temp = train[\"date_created\"].value_counts()\n#print(temp.values)\ntemp_y0 = []\ntemp_y1 = []\nfor val in temp.index:\n    temp_y1.append(np.sum(train[\"project_is_approved\"][train[\"date_created\"]==val] == 1))\n    temp_y0.append(np.sum(train[\"project_is_approved\"][train[\"date_created\"]==val] == 0))\n \ntrace1 = go.Bar(\n    x = temp.index,\n    y = temp_y1,\n    name='Accepted Proposals'\n)\ntrace2 = go.Bar(\n    x = temp.index,\n    y = temp_y0, \n    name='Rejected Proposals'\n)\n\ndata = [trace1, trace2]\nlayout = go.Layout(\n    title = \"Project Proposal Submission date Distribution\",\n    barmode='stack',\n    width = 1000\n)\n\nfig = go.Figure(data=data, layout=layout)\npy.iplot(fig)",
      "execution_count": null,
      "outputs": []
    },
    {
      "metadata": {
        "trusted": true,
        "_uuid": "18ad45f1faaa52667c062d278ed9b06daf5b2541",
        "collapsed": true
      },
      "cell_type": "code",
      "source": "temp = train[\"hour_created\"].value_counts()\n#print(temp.values)\ntemp_y0 = []\ntemp_y1 = []\nfor val in temp.index:\n    temp_y1.append(np.sum(train[\"project_is_approved\"][train[\"hour_created\"]==val] == 1))\n    temp_y0.append(np.sum(train[\"project_is_approved\"][train[\"hour_created\"]==val] == 0))\n \ntrace1 = go.Bar(\n    x = temp.index,\n    y = temp_y1,\n    name='Accepted Proposals'\n)\ntrace2 = go.Bar(\n    x = temp.index,\n    y = temp_y0, \n    name='Rejected Proposals'\n)\n\ndata = [trace1, trace2]\nlayout = go.Layout(\n    title = \"Project Proposal Submission Hour Distribution\",\n    barmode='stack',\n    width = 1000\n)\n\nfig = go.Figure(data=data, layout=layout)\npy.iplot(fig)",
      "execution_count": null,
      "outputs": []
    },
    {
      "metadata": {
        "trusted": true,
        "collapsed": true,
        "_uuid": "ad5481039549f9d91be15d452088a1fed1eff378"
      },
      "cell_type": "code",
      "source": "",
      "execution_count": null,
      "outputs": []
    }
  ],
  "metadata": {
    "kernelspec": {
      "display_name": "Python 3",
      "language": "python",
      "name": "python3"
    },
    "language_info": {
      "name": "python",
      "version": "3.6.6",
      "mimetype": "text/x-python",
      "codemirror_mode": {
        "name": "ipython",
        "version": 3
      },
      "pygments_lexer": "ipython3",
      "nbconvert_exporter": "python",
      "file_extension": ".py"
    }
  },
  "nbformat": 4,
  "nbformat_minor": 1
}